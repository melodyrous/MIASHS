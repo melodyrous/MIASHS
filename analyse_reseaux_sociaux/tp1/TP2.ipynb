{
 "metadata": {
  "language_info": {
   "codemirror_mode": {
    "name": "ipython",
    "version": 3
   },
   "file_extension": ".py",
   "mimetype": "text/x-python",
   "name": "python",
   "nbconvert_exporter": "python",
   "pygments_lexer": "ipython3",
   "version": "3.7.3"
  },
  "orig_nbformat": 2,
  "kernelspec": {
   "name": "python3",
   "display_name": "Python 3.7.3 64-bit ('base': conda)",
   "metadata": {
    "interpreter": {
     "hash": "f305e2f2a4f6cd5dd84caa3f417d1fe12d4f36e08711fc88f26345070ba9ecc6"
    }
   }
  }
 },
 "nbformat": 4,
 "nbformat_minor": 2,
 "cells": [
  {
   "cell_type": "code",
   "execution_count": 2,
   "metadata": {},
   "outputs": [],
   "source": [
    "# TP2"
   ]
  },
  {
   "cell_type": "code",
   "execution_count": 1,
   "metadata": {},
   "outputs": [],
   "source": [
    "from igraph import *\n",
    "import numpy as np"
   ]
  },
  {
   "cell_type": "code",
   "execution_count": 2,
   "metadata": {},
   "outputs": [
    {
     "output_type": "execute_result",
     "data": {
      "text/plain": [
       "<igraph.drawing.Plot at 0x1cdcd605e48>"
      ],
      "image/svg+xml": "<?xml version=\"1.0\" encoding=\"UTF-8\"?>\n<svg xmlns=\"http://www.w3.org/2000/svg\" xmlns:xlink=\"http://www.w3.org/1999/xlink\" width=\"600pt\" height=\"600pt\" viewBox=\"0 0 600 600\" version=\"1.1\">\n<g id=\"surface2\">\n<rect x=\"0\" y=\"0\" width=\"600\" height=\"600\" style=\"fill:rgb(100%,100%,100%);fill-opacity:1;stroke:none;\"/>\n<path style=\"fill:none;stroke-width:1;stroke-linecap:butt;stroke-linejoin:miter;stroke:rgb(26.666667%,26.666667%,26.666667%);stroke-opacity:1;stroke-miterlimit:10;\" d=\"M 172.496094 369.421875 L 115.863281 333.914063 \"/>\n<path style=\"fill:none;stroke-width:1;stroke-linecap:butt;stroke-linejoin:miter;stroke:rgb(26.666667%,26.666667%,26.666667%);stroke-opacity:1;stroke-miterlimit:10;\" d=\"M 115.863281 333.914063 L 65.921875 451.535156 \"/>\n<path style=\"fill:none;stroke-width:1;stroke-linecap:butt;stroke-linejoin:miter;stroke:rgb(26.666667%,26.666667%,26.666667%);stroke-opacity:1;stroke-miterlimit:10;\" d=\"M 172.496094 369.421875 L 49.929688 364.410156 \"/>\n<path style=\"fill:none;stroke-width:1;stroke-linecap:butt;stroke-linejoin:miter;stroke:rgb(26.666667%,26.666667%,26.666667%);stroke-opacity:1;stroke-miterlimit:10;\" d=\"M 115.863281 333.914063 L 49.929688 364.410156 \"/>\n<path style=\"fill:none;stroke-width:1;stroke-linecap:butt;stroke-linejoin:miter;stroke:rgb(26.666667%,26.666667%,26.666667%);stroke-opacity:1;stroke-miterlimit:10;\" d=\"M 65.921875 451.535156 L 49.929688 364.410156 \"/>\n<path style=\"fill:none;stroke-width:1;stroke-linecap:butt;stroke-linejoin:miter;stroke:rgb(26.666667%,26.666667%,26.666667%);stroke-opacity:1;stroke-miterlimit:10;\" d=\"M 273.382813 212.605469 L 384.683594 113.363281 \"/>\n<path style=\"fill:none;stroke-width:1;stroke-linecap:butt;stroke-linejoin:miter;stroke:rgb(26.666667%,26.666667%,26.666667%);stroke-opacity:1;stroke-miterlimit:10;\" d=\"M 172.496094 369.421875 L 179.117188 446.015625 \"/>\n<path style=\"fill:none;stroke-width:1;stroke-linecap:butt;stroke-linejoin:miter;stroke:rgb(26.666667%,26.666667%,26.666667%);stroke-opacity:1;stroke-miterlimit:10;\" d=\"M 259.546875 514.109375 L 179.117188 446.015625 \"/>\n<path style=\"fill:none;stroke-width:1;stroke-linecap:butt;stroke-linejoin:miter;stroke:rgb(26.666667%,26.666667%,26.666667%);stroke-opacity:1;stroke-miterlimit:10;\" d=\"M 65.921875 451.535156 L 179.117188 446.015625 \"/>\n<path style=\"fill:none;stroke-width:1;stroke-linecap:butt;stroke-linejoin:miter;stroke:rgb(26.666667%,26.666667%,26.666667%);stroke-opacity:1;stroke-miterlimit:10;\" d=\"M 273.382813 212.605469 L 306.625 142.394531 \"/>\n<path style=\"fill:none;stroke-width:1;stroke-linecap:butt;stroke-linejoin:miter;stroke:rgb(26.666667%,26.666667%,26.666667%);stroke-opacity:1;stroke-miterlimit:10;\" d=\"M 115.863281 333.914063 L 121.765625 275.847656 \"/>\n<path style=\"fill:none;stroke-width:1;stroke-linecap:butt;stroke-linejoin:miter;stroke:rgb(26.666667%,26.666667%,26.666667%);stroke-opacity:1;stroke-miterlimit:10;\" d=\"M 20 186.539063 L 121.765625 275.847656 \"/>\n<path style=\"fill:none;stroke-width:1;stroke-linecap:butt;stroke-linejoin:miter;stroke:rgb(26.666667%,26.666667%,26.666667%);stroke-opacity:1;stroke-miterlimit:10;\" d=\"M 49.929688 364.410156 L 121.765625 275.847656 \"/>\n<path style=\"fill:none;stroke-width:1;stroke-linecap:butt;stroke-linejoin:miter;stroke:rgb(26.666667%,26.666667%,26.666667%);stroke-opacity:1;stroke-miterlimit:10;\" d=\"M 273.382813 212.605469 L 121.765625 275.847656 \"/>\n<path style=\"fill:none;stroke-width:1;stroke-linecap:butt;stroke-linejoin:miter;stroke:rgb(26.666667%,26.666667%,26.666667%);stroke-opacity:1;stroke-miterlimit:10;\" d=\"M 179.117188 446.015625 L 121.765625 275.847656 \"/>\n<path style=\"fill:none;stroke-width:1;stroke-linecap:butt;stroke-linejoin:miter;stroke:rgb(26.666667%,26.666667%,26.666667%);stroke-opacity:1;stroke-miterlimit:10;\" d=\"M 115.863281 333.914063 L 245.617188 362.878906 \"/>\n<path style=\"fill:none;stroke-width:1;stroke-linecap:butt;stroke-linejoin:miter;stroke:rgb(26.666667%,26.666667%,26.666667%);stroke-opacity:1;stroke-miterlimit:10;\" d=\"M 259.546875 514.109375 L 245.617188 362.878906 \"/>\n<path style=\"fill:none;stroke-width:1;stroke-linecap:butt;stroke-linejoin:miter;stroke:rgb(26.666667%,26.666667%,26.666667%);stroke-opacity:1;stroke-miterlimit:10;\" d=\"M 273.382813 212.605469 L 245.617188 362.878906 \"/>\n<path style=\"fill:none;stroke-width:1;stroke-linecap:butt;stroke-linejoin:miter;stroke:rgb(26.666667%,26.666667%,26.666667%);stroke-opacity:1;stroke-miterlimit:10;\" d=\"M 115.863281 333.914063 L 158.507813 189.359375 \"/>\n<path style=\"fill:none;stroke-width:1;stroke-linecap:butt;stroke-linejoin:miter;stroke:rgb(26.666667%,26.666667%,26.666667%);stroke-opacity:1;stroke-miterlimit:10;\" d=\"M 273.382813 212.605469 L 158.507813 189.359375 \"/>\n<path style=\"fill:none;stroke-width:1;stroke-linecap:butt;stroke-linejoin:miter;stroke:rgb(26.666667%,26.666667%,26.666667%);stroke-opacity:1;stroke-miterlimit:10;\" d=\"M 179.117188 446.015625 L 321.726563 449.171875 \"/>\n<path style=\"fill:none;stroke-width:1;stroke-linecap:butt;stroke-linejoin:miter;stroke:rgb(26.666667%,26.666667%,26.666667%);stroke-opacity:1;stroke-miterlimit:10;\" d=\"M 172.496094 369.421875 L 310.757813 309.300781 \"/>\n<path style=\"fill:none;stroke-width:1;stroke-linecap:butt;stroke-linejoin:miter;stroke:rgb(26.666667%,26.666667%,26.666667%);stroke-opacity:1;stroke-miterlimit:10;\" d=\"M 306.625 142.394531 L 310.757813 309.300781 \"/>\n<path style=\"fill:none;stroke-width:1;stroke-linecap:butt;stroke-linejoin:miter;stroke:rgb(26.666667%,26.666667%,26.666667%);stroke-opacity:1;stroke-miterlimit:10;\" d=\"M 321.726563 449.171875 L 310.757813 309.300781 \"/>\n<path style=\"fill:none;stroke-width:1;stroke-linecap:butt;stroke-linejoin:miter;stroke:rgb(26.666667%,26.666667%,26.666667%);stroke-opacity:1;stroke-miterlimit:10;\" d=\"M 306.625 142.394531 L 295.78125 20 \"/>\n<path style=\"fill:none;stroke-width:1;stroke-linecap:butt;stroke-linejoin:miter;stroke:rgb(26.666667%,26.666667%,26.666667%);stroke-opacity:1;stroke-miterlimit:10;\" d=\"M 259.546875 514.109375 L 360.707031 554.5 \"/>\n<path style=\"fill:none;stroke-width:1;stroke-linecap:butt;stroke-linejoin:miter;stroke:rgb(26.666667%,26.666667%,26.666667%);stroke-opacity:1;stroke-miterlimit:10;\" d=\"M 451.164063 580 L 360.707031 554.5 \"/>\n<path style=\"fill:none;stroke-width:1;stroke-linecap:butt;stroke-linejoin:miter;stroke:rgb(26.666667%,26.666667%,26.666667%);stroke-opacity:1;stroke-miterlimit:10;\" d=\"M 321.726563 449.171875 L 360.707031 554.5 \"/>\n<path style=\"fill:none;stroke-width:1;stroke-linecap:butt;stroke-linejoin:miter;stroke:rgb(26.666667%,26.666667%,26.666667%);stroke-opacity:1;stroke-miterlimit:10;\" d=\"M 273.382813 212.605469 L 416.863281 210.105469 \"/>\n<path style=\"fill-rule:nonzero;fill:rgb(100%,0%,0%);fill-opacity:1;stroke-width:1;stroke-linecap:butt;stroke-linejoin:miter;stroke:rgb(0%,0%,0%);stroke-opacity:1;stroke-miterlimit:10;\" d=\"M 182.496094 369.421875 C 182.496094 374.945313 178.019531 379.421875 172.496094 379.421875 C 166.972656 379.421875 162.496094 374.945313 162.496094 369.421875 C 162.496094 363.898438 166.972656 359.421875 172.496094 359.421875 C 178.019531 359.421875 182.496094 363.898438 182.496094 369.421875 \"/>\n<path style=\"fill-rule:nonzero;fill:rgb(100%,0%,0%);fill-opacity:1;stroke-width:1;stroke-linecap:butt;stroke-linejoin:miter;stroke:rgb(0%,0%,0%);stroke-opacity:1;stroke-miterlimit:10;\" d=\"M 125.863281 333.914063 C 125.863281 339.4375 121.386719 343.914063 115.863281 343.914063 C 110.339844 343.914063 105.863281 339.4375 105.863281 333.914063 C 105.863281 328.390625 110.339844 323.914063 115.863281 323.914063 C 121.386719 323.914063 125.863281 328.390625 125.863281 333.914063 \"/>\n<path style=\"fill-rule:nonzero;fill:rgb(100%,0%,0%);fill-opacity:1;stroke-width:1;stroke-linecap:butt;stroke-linejoin:miter;stroke:rgb(0%,0%,0%);stroke-opacity:1;stroke-miterlimit:10;\" d=\"M 269.546875 514.109375 C 269.546875 519.632813 265.070313 524.109375 259.546875 524.109375 C 254.027344 524.109375 249.546875 519.632813 249.546875 514.109375 C 249.546875 508.585938 254.027344 504.109375 259.546875 504.109375 C 265.070313 504.109375 269.546875 508.585938 269.546875 514.109375 \"/>\n<path style=\"fill-rule:nonzero;fill:rgb(100%,0%,0%);fill-opacity:1;stroke-width:1;stroke-linecap:butt;stroke-linejoin:miter;stroke:rgb(0%,0%,0%);stroke-opacity:1;stroke-miterlimit:10;\" d=\"M 30 186.539063 C 30 192.0625 25.523438 196.539063 20 196.539063 C 14.476563 196.539063 10 192.0625 10 186.539063 C 10 181.015625 14.476563 176.539063 20 176.539063 C 25.523438 176.539063 30 181.015625 30 186.539063 \"/>\n<path style=\"fill-rule:nonzero;fill:rgb(100%,0%,0%);fill-opacity:1;stroke-width:1;stroke-linecap:butt;stroke-linejoin:miter;stroke:rgb(0%,0%,0%);stroke-opacity:1;stroke-miterlimit:10;\" d=\"M 75.921875 451.535156 C 75.921875 457.058594 71.445313 461.535156 65.921875 461.535156 C 60.402344 461.535156 55.921875 457.058594 55.921875 451.535156 C 55.921875 446.011719 60.402344 441.535156 65.921875 441.535156 C 71.445313 441.535156 75.921875 446.011719 75.921875 451.535156 \"/>\n<path style=\"fill-rule:nonzero;fill:rgb(100%,0%,0%);fill-opacity:1;stroke-width:1;stroke-linecap:butt;stroke-linejoin:miter;stroke:rgb(0%,0%,0%);stroke-opacity:1;stroke-miterlimit:10;\" d=\"M 59.929688 364.410156 C 59.929688 369.933594 55.453125 374.410156 49.929688 374.410156 C 44.40625 374.410156 39.929688 369.933594 39.929688 364.410156 C 39.929688 358.886719 44.40625 354.410156 49.929688 354.410156 C 55.453125 354.410156 59.929688 358.886719 59.929688 364.410156 \"/>\n<path style=\"fill-rule:nonzero;fill:rgb(100%,0%,0%);fill-opacity:1;stroke-width:1;stroke-linecap:butt;stroke-linejoin:miter;stroke:rgb(0%,0%,0%);stroke-opacity:1;stroke-miterlimit:10;\" d=\"M 283.382813 212.605469 C 283.382813 218.125 278.90625 222.605469 273.382813 222.605469 C 267.859375 222.605469 263.382813 218.125 263.382813 212.605469 C 263.382813 207.082031 267.859375 202.605469 273.382813 202.605469 C 278.90625 202.605469 283.382813 207.082031 283.382813 212.605469 \"/>\n<path style=\"fill-rule:nonzero;fill:rgb(100%,0%,0%);fill-opacity:1;stroke-width:1;stroke-linecap:butt;stroke-linejoin:miter;stroke:rgb(0%,0%,0%);stroke-opacity:1;stroke-miterlimit:10;\" d=\"M 394.683594 113.363281 C 394.683594 118.886719 390.203125 123.363281 384.683594 123.363281 C 379.160156 123.363281 374.683594 118.886719 374.683594 113.363281 C 374.683594 107.84375 379.160156 103.363281 384.683594 103.363281 C 390.203125 103.363281 394.683594 107.84375 394.683594 113.363281 \"/>\n<path style=\"fill-rule:nonzero;fill:rgb(100%,0%,0%);fill-opacity:1;stroke-width:1;stroke-linecap:butt;stroke-linejoin:miter;stroke:rgb(0%,0%,0%);stroke-opacity:1;stroke-miterlimit:10;\" d=\"M 189.117188 446.015625 C 189.117188 451.539063 184.640625 456.015625 179.117188 456.015625 C 173.59375 456.015625 169.117188 451.539063 169.117188 446.015625 C 169.117188 440.492188 173.59375 436.015625 179.117188 436.015625 C 184.640625 436.015625 189.117188 440.492188 189.117188 446.015625 \"/>\n<path style=\"fill-rule:nonzero;fill:rgb(100%,0%,0%);fill-opacity:1;stroke-width:1;stroke-linecap:butt;stroke-linejoin:miter;stroke:rgb(0%,0%,0%);stroke-opacity:1;stroke-miterlimit:10;\" d=\"M 316.625 142.394531 C 316.625 147.917969 312.148438 152.394531 306.625 152.394531 C 301.101563 152.394531 296.625 147.917969 296.625 142.394531 C 296.625 136.875 301.101563 132.394531 306.625 132.394531 C 312.148438 132.394531 316.625 136.875 316.625 142.394531 \"/>\n<path style=\"fill-rule:nonzero;fill:rgb(100%,0%,0%);fill-opacity:1;stroke-width:1;stroke-linecap:butt;stroke-linejoin:miter;stroke:rgb(0%,0%,0%);stroke-opacity:1;stroke-miterlimit:10;\" d=\"M 131.765625 275.847656 C 131.765625 281.371094 127.289063 285.847656 121.765625 285.847656 C 116.242188 285.847656 111.765625 281.371094 111.765625 275.847656 C 111.765625 270.324219 116.242188 265.847656 121.765625 265.847656 C 127.289063 265.847656 131.765625 270.324219 131.765625 275.847656 \"/>\n<path style=\"fill-rule:nonzero;fill:rgb(100%,0%,0%);fill-opacity:1;stroke-width:1;stroke-linecap:butt;stroke-linejoin:miter;stroke:rgb(0%,0%,0%);stroke-opacity:1;stroke-miterlimit:10;\" d=\"M 590 331.195313 C 590 336.714844 585.523438 341.195313 580 341.195313 C 574.476563 341.195313 570 336.714844 570 331.195313 C 570 325.671875 574.476563 321.195313 580 321.195313 C 585.523438 321.195313 590 325.671875 590 331.195313 \"/>\n<path style=\"fill-rule:nonzero;fill:rgb(100%,0%,0%);fill-opacity:1;stroke-width:1;stroke-linecap:butt;stroke-linejoin:miter;stroke:rgb(0%,0%,0%);stroke-opacity:1;stroke-miterlimit:10;\" d=\"M 461.164063 580 C 461.164063 585.523438 456.6875 590 451.164063 590 C 445.640625 590 441.164063 585.523438 441.164063 580 C 441.164063 574.476563 445.640625 570 451.164063 570 C 456.6875 570 461.164063 574.476563 461.164063 580 \"/>\n<path style=\"fill-rule:nonzero;fill:rgb(100%,0%,0%);fill-opacity:1;stroke-width:1;stroke-linecap:butt;stroke-linejoin:miter;stroke:rgb(0%,0%,0%);stroke-opacity:1;stroke-miterlimit:10;\" d=\"M 255.617188 362.878906 C 255.617188 368.402344 251.140625 372.878906 245.617188 372.878906 C 240.097656 372.878906 235.617188 368.402344 235.617188 362.878906 C 235.617188 357.355469 240.097656 352.878906 245.617188 352.878906 C 251.140625 352.878906 255.617188 357.355469 255.617188 362.878906 \"/>\n<path style=\"fill-rule:nonzero;fill:rgb(100%,0%,0%);fill-opacity:1;stroke-width:1;stroke-linecap:butt;stroke-linejoin:miter;stroke:rgb(0%,0%,0%);stroke-opacity:1;stroke-miterlimit:10;\" d=\"M 168.507813 189.359375 C 168.507813 194.882813 164.027344 199.359375 158.507813 199.359375 C 152.984375 199.359375 148.507813 194.882813 148.507813 189.359375 C 148.507813 183.835938 152.984375 179.359375 158.507813 179.359375 C 164.027344 179.359375 168.507813 183.835938 168.507813 189.359375 \"/>\n<path style=\"fill-rule:nonzero;fill:rgb(100%,0%,0%);fill-opacity:1;stroke-width:1;stroke-linecap:butt;stroke-linejoin:miter;stroke:rgb(0%,0%,0%);stroke-opacity:1;stroke-miterlimit:10;\" d=\"M 331.726563 449.171875 C 331.726563 454.695313 327.246094 459.171875 321.726563 459.171875 C 316.203125 459.171875 311.726563 454.695313 311.726563 449.171875 C 311.726563 443.648438 316.203125 439.171875 321.726563 439.171875 C 327.246094 439.171875 331.726563 443.648438 331.726563 449.171875 \"/>\n<path style=\"fill-rule:nonzero;fill:rgb(100%,0%,0%);fill-opacity:1;stroke-width:1;stroke-linecap:butt;stroke-linejoin:miter;stroke:rgb(0%,0%,0%);stroke-opacity:1;stroke-miterlimit:10;\" d=\"M 320.757813 309.300781 C 320.757813 314.824219 316.28125 319.300781 310.757813 319.300781 C 305.234375 319.300781 300.757813 314.824219 300.757813 309.300781 C 300.757813 303.777344 305.234375 299.300781 310.757813 299.300781 C 316.28125 299.300781 320.757813 303.777344 320.757813 309.300781 \"/>\n<path style=\"fill-rule:nonzero;fill:rgb(100%,0%,0%);fill-opacity:1;stroke-width:1;stroke-linecap:butt;stroke-linejoin:miter;stroke:rgb(0%,0%,0%);stroke-opacity:1;stroke-miterlimit:10;\" d=\"M 305.78125 20 C 305.78125 25.523438 301.304688 30 295.78125 30 C 290.257813 30 285.78125 25.523438 285.78125 20 C 285.78125 14.476563 290.257813 10 295.78125 10 C 301.304688 10 305.78125 14.476563 305.78125 20 \"/>\n<path style=\"fill-rule:nonzero;fill:rgb(100%,0%,0%);fill-opacity:1;stroke-width:1;stroke-linecap:butt;stroke-linejoin:miter;stroke:rgb(0%,0%,0%);stroke-opacity:1;stroke-miterlimit:10;\" d=\"M 370.707031 554.5 C 370.707031 560.019531 366.230469 564.5 360.707031 564.5 C 355.1875 564.5 350.707031 560.019531 350.707031 554.5 C 350.707031 548.976563 355.1875 544.5 360.707031 544.5 C 366.230469 544.5 370.707031 548.976563 370.707031 554.5 \"/>\n<path style=\"fill-rule:nonzero;fill:rgb(100%,0%,0%);fill-opacity:1;stroke-width:1;stroke-linecap:butt;stroke-linejoin:miter;stroke:rgb(0%,0%,0%);stroke-opacity:1;stroke-miterlimit:10;\" d=\"M 426.863281 210.105469 C 426.863281 215.628906 422.386719 220.105469 416.863281 220.105469 C 411.339844 220.105469 406.863281 215.628906 406.863281 210.105469 C 406.863281 204.582031 411.339844 200.105469 416.863281 200.105469 C 422.386719 200.105469 426.863281 204.582031 426.863281 210.105469 \"/>\n</g>\n</svg>\n"
     },
     "metadata": {
      "image/svg+xml": {
       "isolated": true
      }
     },
     "execution_count": 2
    }
   ],
   "source": [
    "g = Graph.Erdos_Renyi(20, 0.2)\n",
    "plot(g)"
   ]
  },
  {
   "cell_type": "code",
   "execution_count": 3,
   "metadata": {},
   "outputs": [],
   "source": [
    "def create_vertex_list(g):\n",
    "    return[vertex.index for vertex in g.vs()]"
   ]
  },
  {
   "cell_type": "code",
   "execution_count": 4,
   "metadata": {},
   "outputs": [],
   "source": [
    "create_vertex_list(g)\n",
    "def create_vertex_summit(g):\n",
    "    return[(edge.source, edge.target) for edge in g.es()]"
   ]
  },
  {
   "cell_type": "code",
   "execution_count": 5,
   "metadata": {},
   "outputs": [],
   "source": [
    "create_vertex_summit(g)\n",
    "def create_vertex_degre2(g):\n",
    "    return[vertex.index for vertex in g.vs() if vertex.degree()==2]"
   ]
  },
  {
   "cell_type": "code",
   "execution_count": 6,
   "metadata": {},
   "outputs": [],
   "source": [
    "create_vertex_degre2(g)\n",
    "def average_degree(g):\n",
    "    return sum(g.degree())/len(g.vs())"
   ]
  },
  {
   "cell_type": "code",
   "execution_count": 7,
   "metadata": {},
   "outputs": [
    {
     "output_type": "stream",
     "name": "stdout",
     "text": [
      "6\n"
     ]
    }
   ],
   "source": [
    "def max_degre(g):\n",
    "    return max(g.degree())\n",
    "\n",
    "print(max_degre(g))"
   ]
  },
  {
   "cell_type": "code",
   "execution_count": 9,
   "metadata": {},
   "outputs": [
    {
     "output_type": "stream",
     "name": "stdout",
     "text": [
      "0: 1,5,8,16\n1: 0,4,5,10,13,14\n2: 8,13,18\n3: 10\n4: 1,5,8\n5: 0,1,4,10\n6: 7,9,10,13,14,19\n7: 6\n8: 0,2,4,10,15\n9: 6,16,17\n10: 1,3,5,6,8\n11: \n12: 18\n13: 1,2,6\n14: 1,6\n15: 8,16,18\n16: 0,9,15\n17: 9\n18: 2,12,15\n19: 6\n"
     ]
    }
   ],
   "source": [
    "def adjancy_list(g):\n",
    "    return [g.neighbors(vertex, mode='all') for vertex in g.vs]\n",
    "\n",
    "adj_list = adjancy_list(g)\n",
    "\n",
    "def print_adjancy_list(adjancy_list):\n",
    "    for i, el in enumerate(adjancy_list):\n",
    "        print('{}: {}'.format(i, \",\".join(str(e) for e in el)))\n",
    "\n",
    "print_adjancy_list(adj_list)"
   ]
  },
  {
   "cell_type": "code",
   "execution_count": 10,
   "metadata": {},
   "outputs": [
    {
     "output_type": "execute_result",
     "data": {
      "text/plain": [
       "array([[0., 1., 0., 0., 0., 1., 0., 0., 1., 0., 0., 0., 0., 0., 0., 0.,\n",
       "        1., 0., 0., 0.],\n",
       "       [1., 0., 0., 0., 1., 1., 0., 0., 0., 0., 1., 0., 0., 1., 1., 0.,\n",
       "        0., 0., 0., 0.],\n",
       "       [0., 0., 0., 0., 0., 0., 0., 0., 1., 0., 0., 0., 0., 1., 0., 0.,\n",
       "        0., 0., 1., 0.],\n",
       "       [0., 0., 0., 0., 0., 0., 0., 0., 0., 0., 1., 0., 0., 0., 0., 0.,\n",
       "        0., 0., 0., 0.],\n",
       "       [0., 1., 0., 0., 0., 1., 0., 0., 1., 0., 0., 0., 0., 0., 0., 0.,\n",
       "        0., 0., 0., 0.],\n",
       "       [1., 1., 0., 0., 1., 0., 0., 0., 0., 0., 1., 0., 0., 0., 0., 0.,\n",
       "        0., 0., 0., 0.],\n",
       "       [0., 0., 0., 0., 0., 0., 0., 1., 0., 1., 1., 0., 0., 1., 1., 0.,\n",
       "        0., 0., 0., 1.],\n",
       "       [0., 0., 0., 0., 0., 0., 1., 0., 0., 0., 0., 0., 0., 0., 0., 0.,\n",
       "        0., 0., 0., 0.],\n",
       "       [1., 0., 1., 0., 1., 0., 0., 0., 0., 0., 1., 0., 0., 0., 0., 1.,\n",
       "        0., 0., 0., 0.],\n",
       "       [0., 0., 0., 0., 0., 0., 1., 0., 0., 0., 0., 0., 0., 0., 0., 0.,\n",
       "        1., 1., 0., 0.],\n",
       "       [0., 1., 0., 1., 0., 1., 1., 0., 1., 0., 0., 0., 0., 0., 0., 0.,\n",
       "        0., 0., 0., 0.],\n",
       "       [0., 0., 0., 0., 0., 0., 0., 0., 0., 0., 0., 0., 0., 0., 0., 0.,\n",
       "        0., 0., 0., 0.],\n",
       "       [0., 0., 0., 0., 0., 0., 0., 0., 0., 0., 0., 0., 0., 0., 0., 0.,\n",
       "        0., 0., 1., 0.],\n",
       "       [0., 1., 1., 0., 0., 0., 1., 0., 0., 0., 0., 0., 0., 0., 0., 0.,\n",
       "        0., 0., 0., 0.],\n",
       "       [0., 1., 0., 0., 0., 0., 1., 0., 0., 0., 0., 0., 0., 0., 0., 0.,\n",
       "        0., 0., 0., 0.],\n",
       "       [0., 0., 0., 0., 0., 0., 0., 0., 1., 0., 0., 0., 0., 0., 0., 0.,\n",
       "        1., 0., 1., 0.],\n",
       "       [1., 0., 0., 0., 0., 0., 0., 0., 0., 1., 0., 0., 0., 0., 0., 1.,\n",
       "        0., 0., 0., 0.],\n",
       "       [0., 0., 0., 0., 0., 0., 0., 0., 0., 1., 0., 0., 0., 0., 0., 0.,\n",
       "        0., 0., 0., 0.],\n",
       "       [0., 0., 1., 0., 0., 0., 0., 0., 0., 0., 0., 0., 1., 0., 0., 1.,\n",
       "        0., 0., 0., 0.],\n",
       "       [0., 0., 0., 0., 0., 0., 1., 0., 0., 0., 0., 0., 0., 0., 0., 0.,\n",
       "        0., 0., 0., 0.]])"
      ]
     },
     "metadata": {},
     "execution_count": 10
    }
   ],
   "source": [
    "def create_adjancy_matrix(g):\n",
    "    adj_matrix = np.zeros((len(g.vs),len(g.vs)))\n",
    "    for i, j in enumerate(adj_list):\n",
    "        for k in j:\n",
    "            adj_matrix[i,k] = 1\n",
    "            adj_matrix[k,i] = 1\n",
    "    return adj_matrix\n",
    "\n",
    "create_adjancy_matrix(g)\n"
   ]
  },
  {
   "cell_type": "code",
   "execution_count": 11,
   "metadata": {},
   "outputs": [
    {
     "output_type": "stream",
     "name": "stdout",
     "text": [
      "[4, 6, 3, 1, 3, 4, 6, 1, 5, 3, 5, 0, 1, 3, 2, 3, 3, 1, 3, 1]\n"
     ]
    }
   ],
   "source": [
    "def add_property_degree(g):\n",
    "    g.vs['degree'] = g.degree()\n",
    "    print(g.degree())\n",
    "\n",
    "add_property_degree(g)"
   ]
  },
  {
   "cell_type": "code",
   "execution_count": 31,
   "metadata": {},
   "outputs": [],
   "source": [
    "# Exercice 10"
   ]
  },
  {
   "cell_type": "code",
   "execution_count": 21,
   "metadata": {
    "tags": []
   },
   "outputs": [
    {
     "output_type": "stream",
     "name": "stdout",
     "text": [
      "20\n6\n"
     ]
    },
    {
     "output_type": "error",
     "ename": "ValueError",
     "evalue": "list.remove(x): x not in list",
     "traceback": [
      "\u001b[1;31m---------------------------------------------------------------------------\u001b[0m",
      "\u001b[1;31mValueError\u001b[0m                                Traceback (most recent call last)",
      "\u001b[1;32m<ipython-input-21-6d97aad5e2f0>\u001b[0m in \u001b[0;36m<module>\u001b[1;34m\u001b[0m\n\u001b[0;32m     21\u001b[0m     \u001b[0mi\u001b[0m\u001b[1;33m+=\u001b[0m\u001b[1;36m1\u001b[0m\u001b[1;33m\u001b[0m\u001b[1;33m\u001b[0m\u001b[0m\n\u001b[0;32m     22\u001b[0m     \u001b[0mlongueur\u001b[0m \u001b[1;33m+=\u001b[0m \u001b[1;36m1\u001b[0m\u001b[1;33m\u001b[0m\u001b[1;33m\u001b[0m\u001b[0m\n\u001b[1;32m---> 23\u001b[1;33m     \u001b[0madj_list\u001b[0m\u001b[1;33m.\u001b[0m\u001b[0mremove\u001b[0m\u001b[1;33m(\u001b[0m\u001b[0mv\u001b[0m\u001b[1;33m)\u001b[0m\u001b[1;33m\u001b[0m\u001b[1;33m\u001b[0m\u001b[0m\n\u001b[0m\u001b[0;32m     24\u001b[0m \u001b[1;33m\u001b[0m\u001b[0m\n\u001b[0;32m     25\u001b[0m \u001b[0mprint\u001b[0m\u001b[1;33m(\u001b[0m\u001b[0mpcc\u001b[0m\u001b[1;33m)\u001b[0m\u001b[1;33m\u001b[0m\u001b[1;33m\u001b[0m\u001b[0m\n",
      "\u001b[1;31mValueError\u001b[0m: list.remove(x): x not in list"
     ]
    }
   ],
   "source": [
    "v_dep = 1\n",
    "ffile  = [v_dep]\n",
    "pcc = [float('inf')] * len(g.vs)\n",
    "print(len(pcc))\n",
    "i=0\n",
    "longueur = 1\n",
    "pcc[v_dep] = 0\n",
    "\n",
    "while len(adj_list)>0:\n",
    "    print(len(adjancy_v))\n",
    "    # On initialise la valeur dont on va chercher les voisins\n",
    "    v = ffile[i] # \n",
    "    # On ajoute les plus proches voisins de cette valeur à la file, \n",
    "    adjancy_v = adj_list[v] # liste de noeuds adjacents à v\n",
    "    ffile.extend(adjancy_v) # file à dérouler\n",
    "    # On ajoute la longueur du chemin associé au sommet pour la valeur selectionnée\n",
    "    for va in adjancy_v:\n",
    "        if pcc[va] == float('inf'):\n",
    "            pcc[va] = longueur\n",
    "\n",
    "    i+=1\n",
    "    longueur += 1\n",
    "    adj_list.remove(v)\n",
    "\n",
    "print(pcc)\n"
   ]
  },
  {
   "cell_type": "code",
   "execution_count": null,
   "metadata": {},
   "outputs": [],
   "source": []
  }
 ]
}