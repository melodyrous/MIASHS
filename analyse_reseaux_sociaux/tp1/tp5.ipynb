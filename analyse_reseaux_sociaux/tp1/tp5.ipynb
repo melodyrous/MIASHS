{
 "metadata": {
  "language_info": {
   "codemirror_mode": {
    "name": "ipython",
    "version": 3
   },
   "file_extension": ".py",
   "mimetype": "text/x-python",
   "name": "python",
   "nbconvert_exporter": "python",
   "pygments_lexer": "ipython3",
   "version": "3.7.3"
  },
  "orig_nbformat": 2,
  "kernelspec": {
   "name": "python373jvsc74a57bd0f305e2f2a4f6cd5dd84caa3f417d1fe12d4f36e08711fc88f26345070ba9ecc6",
   "display_name": "Python 3.7.3 64-bit (conda)"
  }
 },
 "nbformat": 4,
 "nbformat_minor": 2,
 "cells": [
  {
   "cell_type": "code",
   "execution_count": 2,
   "metadata": {},
   "outputs": [],
   "source": [
    "import numpy as np \n",
    "from igraph import *\n",
    "import matplotlib.pyplot as plt "
   ]
  },
  {
   "cell_type": "code",
   "execution_count": 6,
   "metadata": {},
   "outputs": [
    {
     "output_type": "execute_result",
     "data": {
      "text/plain": [
       "<igraph.drawing.Plot at 0x24862309198>"
      ],
      "image/svg+xml": "<?xml version=\"1.0\" encoding=\"UTF-8\"?>\n<svg xmlns=\"http://www.w3.org/2000/svg\" xmlns:xlink=\"http://www.w3.org/1999/xlink\" width=\"600pt\" height=\"600pt\" viewBox=\"0 0 600 600\" version=\"1.1\">\n<g id=\"surface8\">\n<rect x=\"0\" y=\"0\" width=\"600\" height=\"600\" style=\"fill:rgb(100%,100%,100%);fill-opacity:1;stroke:none;\"/>\n<path style=\"fill:none;stroke-width:1;stroke-linecap:butt;stroke-linejoin:miter;stroke:rgb(26.666667%,26.666667%,26.666667%);stroke-opacity:1;stroke-miterlimit:10;\" d=\"M 580 500.046875 L 358.605469 580 \"/>\n<path style=\"fill:none;stroke-width:1;stroke-linecap:butt;stroke-linejoin:miter;stroke:rgb(26.666667%,26.666667%,26.666667%);stroke-opacity:1;stroke-miterlimit:10;\" d=\"M 580 500.046875 L 393.875 306.371094 \"/>\n<path style=\"fill:none;stroke-width:1;stroke-linecap:butt;stroke-linejoin:miter;stroke:rgb(26.666667%,26.666667%,26.666667%);stroke-opacity:1;stroke-miterlimit:10;\" d=\"M 358.605469 580 C 385.3125 448.121094 339.101563 350.898438 219.976563 288.332031 \"/>\n<path style=\"fill:none;stroke-width:1;stroke-linecap:butt;stroke-linejoin:miter;stroke:rgb(26.666667%,26.666667%,26.666667%);stroke-opacity:1;stroke-miterlimit:10;\" d=\"M 358.605469 580 C 239.476563 517.433594 193.269531 420.210938 219.976563 288.332031 \"/>\n<path style=\"fill:none;stroke-width:1;stroke-linecap:butt;stroke-linejoin:miter;stroke:rgb(26.666667%,26.666667%,26.666667%);stroke-opacity:1;stroke-miterlimit:10;\" d=\"M 393.875 306.371094 L 129.808594 472.46875 \"/>\n<path style=\"fill:none;stroke-width:1;stroke-linecap:butt;stroke-linejoin:miter;stroke:rgb(26.666667%,26.666667%,26.666667%);stroke-opacity:1;stroke-miterlimit:10;\" d=\"M 219.976563 288.332031 L 129.808594 472.46875 \"/>\n<path style=\"fill:none;stroke-width:1;stroke-linecap:butt;stroke-linejoin:miter;stroke:rgb(26.666667%,26.666667%,26.666667%);stroke-opacity:1;stroke-miterlimit:10;\" d=\"M 219.976563 288.332031 C 197.515625 179.410156 130.855469 120.480469 20 111.546875 \"/>\n<path style=\"fill:none;stroke-width:1;stroke-linecap:butt;stroke-linejoin:miter;stroke:rgb(26.666667%,26.666667%,26.666667%);stroke-opacity:1;stroke-miterlimit:10;\" d=\"M 219.976563 288.332031 C 109.121094 279.398438 42.460938 220.46875 20 111.546875 \"/>\n<path style=\"fill:none;stroke-width:1;stroke-linecap:butt;stroke-linejoin:miter;stroke:rgb(26.666667%,26.666667%,26.666667%);stroke-opacity:1;stroke-miterlimit:10;\" d=\"M 20 111.546875 L 240.59375 20 \"/>\n<path style=\"fill:none;stroke-width:1;stroke-linecap:butt;stroke-linejoin:miter;stroke:rgb(26.666667%,26.666667%,26.666667%);stroke-opacity:1;stroke-miterlimit:10;\" d=\"M 393.875 306.371094 L 240.59375 20 \"/>\n<path style=\"fill:none;stroke-width:1;stroke-linecap:butt;stroke-linejoin:miter;stroke:rgb(26.666667%,26.666667%,26.666667%);stroke-opacity:1;stroke-miterlimit:10;\" d=\"M 219.976563 288.332031 C 354.339844 271.480469 432.242188 196.203125 453.6875 62.496094 \"/>\n<path style=\"fill:none;stroke-width:1;stroke-linecap:butt;stroke-linejoin:miter;stroke:rgb(26.666667%,26.666667%,26.666667%);stroke-opacity:1;stroke-miterlimit:10;\" d=\"M 219.976563 288.332031 C 241.421875 154.625 319.324219 79.347656 453.6875 62.496094 \"/>\n<path style=\"fill-rule:nonzero;fill:rgb(100%,0%,0%);fill-opacity:1;stroke-width:1;stroke-linecap:butt;stroke-linejoin:miter;stroke:rgb(0%,0%,0%);stroke-opacity:1;stroke-miterlimit:10;\" d=\"M 590 500.046875 C 590 505.570313 585.523438 510.046875 580 510.046875 C 574.476563 510.046875 570 505.570313 570 500.046875 C 570 494.523438 574.476563 490.046875 580 490.046875 C 585.523438 490.046875 590 494.523438 590 500.046875 \"/>\n<path style=\"fill-rule:nonzero;fill:rgb(100%,0%,0%);fill-opacity:1;stroke-width:1;stroke-linecap:butt;stroke-linejoin:miter;stroke:rgb(0%,0%,0%);stroke-opacity:1;stroke-miterlimit:10;\" d=\"M 368.605469 580 C 368.605469 585.523438 364.128906 590 358.605469 590 C 353.082031 590 348.605469 585.523438 348.605469 580 C 348.605469 574.476563 353.082031 570 358.605469 570 C 364.128906 570 368.605469 574.476563 368.605469 580 \"/>\n<path style=\"fill-rule:nonzero;fill:rgb(100%,0%,0%);fill-opacity:1;stroke-width:1;stroke-linecap:butt;stroke-linejoin:miter;stroke:rgb(0%,0%,0%);stroke-opacity:1;stroke-miterlimit:10;\" d=\"M 403.875 306.371094 C 403.875 311.894531 399.398438 316.371094 393.875 316.371094 C 388.351563 316.371094 383.875 311.894531 383.875 306.371094 C 383.875 300.847656 388.351563 296.371094 393.875 296.371094 C 399.398438 296.371094 403.875 300.847656 403.875 306.371094 \"/>\n<path style=\"fill-rule:nonzero;fill:rgb(100%,0%,0%);fill-opacity:1;stroke-width:1;stroke-linecap:butt;stroke-linejoin:miter;stroke:rgb(0%,0%,0%);stroke-opacity:1;stroke-miterlimit:10;\" d=\"M 229.976563 288.332031 C 229.976563 293.855469 225.5 298.332031 219.976563 298.332031 C 214.453125 298.332031 209.976563 293.855469 209.976563 288.332031 C 209.976563 282.808594 214.453125 278.332031 219.976563 278.332031 C 225.5 278.332031 229.976563 282.808594 229.976563 288.332031 \"/>\n<path style=\"fill-rule:nonzero;fill:rgb(100%,0%,0%);fill-opacity:1;stroke-width:1;stroke-linecap:butt;stroke-linejoin:miter;stroke:rgb(0%,0%,0%);stroke-opacity:1;stroke-miterlimit:10;\" d=\"M 139.808594 472.46875 C 139.808594 477.992188 135.328125 482.46875 129.808594 482.46875 C 124.285156 482.46875 119.808594 477.992188 119.808594 472.46875 C 119.808594 466.945313 124.285156 462.46875 129.808594 462.46875 C 135.328125 462.46875 139.808594 466.945313 139.808594 472.46875 \"/>\n<path style=\"fill-rule:nonzero;fill:rgb(100%,0%,0%);fill-opacity:1;stroke-width:1;stroke-linecap:butt;stroke-linejoin:miter;stroke:rgb(0%,0%,0%);stroke-opacity:1;stroke-miterlimit:10;\" d=\"M 30 111.546875 C 30 117.070313 25.523438 121.546875 20 121.546875 C 14.476563 121.546875 10 117.070313 10 111.546875 C 10 106.023438 14.476563 101.546875 20 101.546875 C 25.523438 101.546875 30 106.023438 30 111.546875 \"/>\n<path style=\"fill-rule:nonzero;fill:rgb(100%,0%,0%);fill-opacity:1;stroke-width:1;stroke-linecap:butt;stroke-linejoin:miter;stroke:rgb(0%,0%,0%);stroke-opacity:1;stroke-miterlimit:10;\" d=\"M 250.59375 20 C 250.59375 25.523438 246.113281 30 240.59375 30 C 235.070313 30 230.59375 25.523438 230.59375 20 C 230.59375 14.476563 235.070313 10 240.59375 10 C 246.113281 10 250.59375 14.476563 250.59375 20 \"/>\n<path style=\"fill-rule:nonzero;fill:rgb(100%,0%,0%);fill-opacity:1;stroke-width:1;stroke-linecap:butt;stroke-linejoin:miter;stroke:rgb(0%,0%,0%);stroke-opacity:1;stroke-miterlimit:10;\" d=\"M 463.6875 62.496094 C 463.6875 68.019531 459.210938 72.496094 453.6875 72.496094 C 448.164063 72.496094 443.6875 68.019531 443.6875 62.496094 C 443.6875 56.976563 448.164063 52.496094 453.6875 52.496094 C 459.210938 52.496094 463.6875 56.976563 463.6875 62.496094 \"/>\n</g>\n</svg>\n"
     },
     "metadata": {
      "image/svg+xml": {
       "isolated": true
      }
     },
     "execution_count": 6
    }
   ],
   "source": [
    "from numpy.random import choice\n",
    "\n",
    "def BA(n, m):\n",
    "    def compute_proba(g):\n",
    "        probas = []\n",
    "        for degree in g.degree():\n",
    "            probas.append(degree/ sum(g.degree()))\n",
    "        return probas\n",
    "\n",
    "    # initialisation du graphe\n",
    "    start = 3\n",
    "    g =  Graph()\n",
    "    g.add_vertices(3)\n",
    "    g.add_edges(([0,1],[0,2]))\n",
    "\n",
    "    n = n\n",
    "    m = m\n",
    "    for i in range(start, n+start):\n",
    "        probability_distribution = compute_proba(g)\n",
    "        choices = choice(g.degree(), m,\n",
    "                p=probability_distribution, replace=False)\n",
    "        g.add_vertices(1)\n",
    "        g.add_edges(([i,choices[0]], [i,choices[1]]))\n",
    "    return g\n",
    "\n",
    "g = BA(5, 2)\n",
    "plot(g)"
   ]
  },
  {
   "cell_type": "code",
   "execution_count": 37,
   "metadata": {},
   "outputs": [],
   "source": [
    "def adjancy_matrice(g, oriented=False):\n",
    "\n",
    "    am = np.zeros((len(g.degree()),len(g.degree())))\n",
    "    for es in g.es():\n",
    "        am[es.source, es.target] = 1\n",
    "        if not oriented:\n",
    "            am[es.target, es.source] = 1\n",
    "    return am       \n",
    "\n",
    "a  = adjancy_matrice(g)\n"
   ]
  },
  {
   "cell_type": "code",
   "execution_count": 38,
   "metadata": {},
   "outputs": [
    {
     "output_type": "stream",
     "name": "stdout",
     "text": [
      "Nombre d'itérations: 12\n"
     ]
    },
    {
     "output_type": "execute_result",
     "data": {
      "text/plain": [
       "array([0.59869044, 0.69514566, 0.80682366, 1.        , 0.77451681,\n",
       "       0.69514566, 0.59869044, 0.44227477])"
      ]
     },
     "metadata": {},
     "execution_count": 38
    }
   ],
   "source": [
    "def puissance_iteree(matrice_adj, e, i_start):\n",
    "\n",
    "    vecteur_column = np.full(len(matrice_adj), i_start)\n",
    "    variation = np.float('inf')\n",
    "    i = 0\n",
    "    while variation > e:\n",
    "        old_vec = vecteur_column.copy()\n",
    "        vecteur_column = np.dot(matrice_adj, vecteur_column)\n",
    "        vecteur_column = vecteur_column/ max(vecteur_column)\n",
    "        i+=1\n",
    "        variation = abs(old_vec - vecteur_column).max()\n",
    "\n",
    "    print(\"Nombre d'itérations:\",i)\n",
    "    return vecteur_column\n",
    "\n",
    "\n",
    "puissance_iteree(a, 0.1, 15)"
   ]
  },
  {
   "cell_type": "code",
   "execution_count": 39,
   "metadata": {},
   "outputs": [
    {
     "output_type": "stream",
     "name": "stdout",
     "text": [
      "Nombre d'itérations: 12\n"
     ]
    },
    {
     "output_type": "execute_result",
     "data": {
      "text/plain": [
       "<igraph.drawing.Plot at 0x24866e4a9b0>"
      ],
      "image/svg+xml": "<?xml version=\"1.0\" encoding=\"UTF-8\"?>\n<svg xmlns=\"http://www.w3.org/2000/svg\" xmlns:xlink=\"http://www.w3.org/1999/xlink\" width=\"600pt\" height=\"600pt\" viewBox=\"0 0 600 600\" version=\"1.1\">\n<g id=\"surface104\">\n<rect x=\"0\" y=\"0\" width=\"600\" height=\"600\" style=\"fill:rgb(100%,100%,100%);fill-opacity:1;stroke:none;\"/>\n<path style=\"fill:none;stroke-width:1;stroke-linecap:butt;stroke-linejoin:miter;stroke:rgb(26.666667%,26.666667%,26.666667%);stroke-opacity:1;stroke-miterlimit:10;\" d=\"M 580 500.046875 L 358.605469 580 \"/>\n<path style=\"fill:none;stroke-width:1;stroke-linecap:butt;stroke-linejoin:miter;stroke:rgb(26.666667%,26.666667%,26.666667%);stroke-opacity:1;stroke-miterlimit:10;\" d=\"M 580 500.046875 L 393.875 306.371094 \"/>\n<path style=\"fill:none;stroke-width:1;stroke-linecap:butt;stroke-linejoin:miter;stroke:rgb(26.666667%,26.666667%,26.666667%);stroke-opacity:1;stroke-miterlimit:10;\" d=\"M 358.605469 580 C 385.3125 448.121094 339.101563 350.898438 219.976563 288.332031 \"/>\n<path style=\"fill:none;stroke-width:1;stroke-linecap:butt;stroke-linejoin:miter;stroke:rgb(26.666667%,26.666667%,26.666667%);stroke-opacity:1;stroke-miterlimit:10;\" d=\"M 358.605469 580 C 239.476563 517.433594 193.269531 420.210938 219.976563 288.332031 \"/>\n<path style=\"fill:none;stroke-width:1;stroke-linecap:butt;stroke-linejoin:miter;stroke:rgb(26.666667%,26.666667%,26.666667%);stroke-opacity:1;stroke-miterlimit:10;\" d=\"M 393.875 306.371094 L 129.808594 472.46875 \"/>\n<path style=\"fill:none;stroke-width:1;stroke-linecap:butt;stroke-linejoin:miter;stroke:rgb(26.666667%,26.666667%,26.666667%);stroke-opacity:1;stroke-miterlimit:10;\" d=\"M 219.976563 288.332031 L 129.808594 472.46875 \"/>\n<path style=\"fill:none;stroke-width:1;stroke-linecap:butt;stroke-linejoin:miter;stroke:rgb(26.666667%,26.666667%,26.666667%);stroke-opacity:1;stroke-miterlimit:10;\" d=\"M 219.976563 288.332031 C 197.515625 179.410156 130.855469 120.480469 20 111.546875 \"/>\n<path style=\"fill:none;stroke-width:1;stroke-linecap:butt;stroke-linejoin:miter;stroke:rgb(26.666667%,26.666667%,26.666667%);stroke-opacity:1;stroke-miterlimit:10;\" d=\"M 219.976563 288.332031 C 109.121094 279.398438 42.460938 220.46875 20 111.546875 \"/>\n<path style=\"fill:none;stroke-width:1;stroke-linecap:butt;stroke-linejoin:miter;stroke:rgb(26.666667%,26.666667%,26.666667%);stroke-opacity:1;stroke-miterlimit:10;\" d=\"M 20 111.546875 L 240.59375 20 \"/>\n<path style=\"fill:none;stroke-width:1;stroke-linecap:butt;stroke-linejoin:miter;stroke:rgb(26.666667%,26.666667%,26.666667%);stroke-opacity:1;stroke-miterlimit:10;\" d=\"M 393.875 306.371094 L 240.59375 20 \"/>\n<path style=\"fill:none;stroke-width:1;stroke-linecap:butt;stroke-linejoin:miter;stroke:rgb(26.666667%,26.666667%,26.666667%);stroke-opacity:1;stroke-miterlimit:10;\" d=\"M 219.976563 288.332031 C 354.339844 271.480469 432.242188 196.203125 453.6875 62.496094 \"/>\n<path style=\"fill:none;stroke-width:1;stroke-linecap:butt;stroke-linejoin:miter;stroke:rgb(26.666667%,26.666667%,26.666667%);stroke-opacity:1;stroke-miterlimit:10;\" d=\"M 219.976563 288.332031 C 241.421875 154.625 319.324219 79.347656 453.6875 62.496094 \"/>\n<path style=\"fill-rule:nonzero;fill:rgb(100%,0%,0%);fill-opacity:1;stroke-width:1;stroke-linecap:butt;stroke-linejoin:miter;stroke:rgb(0%,0%,0%);stroke-opacity:1;stroke-miterlimit:10;\" d=\"M 585.988281 500.046875 C 585.988281 503.351563 583.304688 506.035156 580 506.035156 C 576.695313 506.035156 574.011719 503.351563 574.011719 500.046875 C 574.011719 496.742188 576.695313 494.058594 580 494.058594 C 583.304688 494.058594 585.988281 496.742188 585.988281 500.046875 \"/>\n<path style=\"fill-rule:nonzero;fill:rgb(100%,0%,0%);fill-opacity:1;stroke-width:1;stroke-linecap:butt;stroke-linejoin:miter;stroke:rgb(0%,0%,0%);stroke-opacity:1;stroke-miterlimit:10;\" d=\"M 365.554688 580 C 365.554688 583.839844 362.445313 586.953125 358.605469 586.953125 C 354.765625 586.953125 351.652344 583.839844 351.652344 580 C 351.652344 576.160156 354.765625 573.046875 358.605469 573.046875 C 362.445313 573.046875 365.554688 576.160156 365.554688 580 \"/>\n<path style=\"fill-rule:nonzero;fill:rgb(100%,0%,0%);fill-opacity:1;stroke-width:1;stroke-linecap:butt;stroke-linejoin:miter;stroke:rgb(0%,0%,0%);stroke-opacity:1;stroke-miterlimit:10;\" d=\"M 401.945313 306.371094 C 401.945313 310.828125 398.332031 314.441406 393.875 314.441406 C 389.417969 314.441406 385.808594 310.828125 385.808594 306.371094 C 385.808594 301.914063 389.417969 298.304688 393.875 298.304688 C 398.332031 298.304688 401.945313 301.914063 401.945313 306.371094 \"/>\n<path style=\"fill-rule:nonzero;fill:rgb(100%,0%,0%);fill-opacity:1;stroke-width:1;stroke-linecap:butt;stroke-linejoin:miter;stroke:rgb(0%,0%,0%);stroke-opacity:1;stroke-miterlimit:10;\" d=\"M 229.976563 288.332031 C 229.976563 293.855469 225.5 298.332031 219.976563 298.332031 C 214.453125 298.332031 209.976563 293.855469 209.976563 288.332031 C 209.976563 282.808594 214.453125 278.332031 219.976563 278.332031 C 225.5 278.332031 229.976563 282.808594 229.976563 288.332031 \"/>\n<path style=\"fill-rule:nonzero;fill:rgb(100%,0%,0%);fill-opacity:1;stroke-width:1;stroke-linecap:butt;stroke-linejoin:miter;stroke:rgb(0%,0%,0%);stroke-opacity:1;stroke-miterlimit:10;\" d=\"M 137.550781 472.46875 C 137.550781 476.746094 134.085938 480.214844 129.808594 480.214844 C 125.53125 480.214844 122.0625 476.746094 122.0625 472.46875 C 122.0625 468.191406 125.53125 464.722656 129.808594 464.722656 C 134.085938 464.722656 137.550781 468.191406 137.550781 472.46875 \"/>\n<path style=\"fill-rule:nonzero;fill:rgb(100%,0%,0%);fill-opacity:1;stroke-width:1;stroke-linecap:butt;stroke-linejoin:miter;stroke:rgb(0%,0%,0%);stroke-opacity:1;stroke-miterlimit:10;\" d=\"M 26.953125 111.546875 C 26.953125 115.386719 23.839844 118.496094 20 118.496094 C 16.160156 118.496094 13.046875 115.386719 13.046875 111.546875 C 13.046875 107.707031 16.160156 104.59375 20 104.59375 C 23.839844 104.59375 26.953125 107.707031 26.953125 111.546875 \"/>\n<path style=\"fill-rule:nonzero;fill:rgb(100%,0%,0%);fill-opacity:1;stroke-width:1;stroke-linecap:butt;stroke-linejoin:miter;stroke:rgb(0%,0%,0%);stroke-opacity:1;stroke-miterlimit:10;\" d=\"M 246.578125 20 C 246.578125 23.304688 243.898438 25.988281 240.59375 25.988281 C 237.285156 25.988281 234.605469 23.304688 234.605469 20 C 234.605469 16.695313 237.285156 14.011719 240.59375 14.011719 C 243.898438 14.011719 246.578125 16.695313 246.578125 20 \"/>\n<path style=\"fill-rule:nonzero;fill:rgb(100%,0%,0%);fill-opacity:1;stroke-width:1;stroke-linecap:butt;stroke-linejoin:miter;stroke:rgb(0%,0%,0%);stroke-opacity:1;stroke-miterlimit:10;\" d=\"M 458.113281 62.496094 C 458.113281 68.394531 449.265625 68.394531 449.265625 62.496094 C 449.265625 56.601563 458.113281 56.601563 458.113281 62.496094 \"/>\n</g>\n</svg>\n"
     },
     "metadata": {
      "image/svg+xml": {
       "isolated": true
      }
     },
     "execution_count": 39
    }
   ],
   "source": [
    "def eigenvector_centrality(g, e,i_start=1, oriented=False):\n",
    "\n",
    "    A = adjancy_matrice(g, oriented)\n",
    "    eigenvector = puissance_iteree(A, e, i_start)\n",
    "\n",
    "    return eigenvector\n",
    "\n",
    "\n",
    "\n",
    "eigenvector = eigenvector_centrality(g, 0.1)\n",
    "g.vs['centrality'] = eigenvector *20\n",
    "style = {\n",
    "    \"vertex_size\" : g.vs['centrality'] \n",
    "}\n",
    "\n",
    "plot(g, **style)"
   ]
  }
 ]
}