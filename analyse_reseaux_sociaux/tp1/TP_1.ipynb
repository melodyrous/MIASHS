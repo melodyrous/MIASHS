{
 "cells": [
  {
   "cell_type": "markdown",
   "id": "acknowledged-matrix",
   "metadata": {},
   "source": [
    "# TP1 - Logiciels (iGraph)"
   ]
  },
  {
   "cell_type": "code",
   "execution_count": null,
   "id": "steady-olympus",
   "metadata": {},
   "outputs": [],
   "source": [
    "from igraph import *"
   ]
  },
  {
   "cell_type": "markdown",
   "id": "temporal-stream",
   "metadata": {},
   "source": [
    "## Import data"
   ]
  },
  {
   "cell_type": "code",
   "execution_count": null,
   "id": "capital-venue",
   "metadata": {},
   "outputs": [],
   "source": [
    "g = read('FacebookAnon.gml')"
   ]
  },
  {
   "cell_type": "markdown",
   "id": "blond-washer",
   "metadata": {},
   "source": [
    "## Affichage graphe"
   ]
  },
  {
   "cell_type": "code",
   "execution_count": null,
   "id": "expressed-brief",
   "metadata": {},
   "outputs": [],
   "source": [
    "plot(g)"
   ]
  },
  {
   "cell_type": "markdown",
   "id": "traditional-marijuana",
   "metadata": {},
   "source": [
    "## Réarranger la position des sommets pour avoir une meilleure vue de la structure"
   ]
  },
  {
   "cell_type": "code",
   "execution_count": null,
   "id": "compound-litigation",
   "metadata": {},
   "outputs": [],
   "source": [
    "layout = g.layout('fr')"
   ]
  },
  {
   "cell_type": "code",
   "execution_count": null,
   "id": "parallel-liberia",
   "metadata": {},
   "outputs": [],
   "source": [
    "plot(g, layout=layout)"
   ]
  },
  {
   "cell_type": "markdown",
   "id": "cooperative-robinson",
   "metadata": {},
   "source": [
    "## Calculer le nombre de composantes connexes."
   ]
  },
  {
   "cell_type": "code",
   "execution_count": null,
   "id": "extreme-vacuum",
   "metadata": {},
   "outputs": [],
   "source": [
    "composantes = g.clusters()"
   ]
  },
  {
   "cell_type": "code",
   "execution_count": null,
   "id": "based-contrast",
   "metadata": {},
   "outputs": [],
   "source": [
    "print('On observe', len(composantes), 'compoantes connexes !')"
   ]
  },
  {
   "cell_type": "markdown",
   "id": "applied-lesson",
   "metadata": {},
   "source": [
    "Attention, on peut afficher la composante géante de la manière suivante :"
   ]
  },
  {
   "cell_type": "code",
   "execution_count": null,
   "id": "friendly-authentication",
   "metadata": {},
   "outputs": [],
   "source": [
    "compoanteGeante = g.clusters().giant()"
   ]
  },
  {
   "cell_type": "code",
   "execution_count": null,
   "id": "fifty-spider",
   "metadata": {},
   "outputs": [],
   "source": [
    "plot(compoanteGeante)"
   ]
  },
  {
   "cell_type": "code",
   "execution_count": null,
   "id": "arabic-gravity",
   "metadata": {},
   "outputs": [],
   "source": [
    "uneComposante = g.subgraph(g.clusters()[18])"
   ]
  },
  {
   "cell_type": "code",
   "execution_count": null,
   "id": "tamil-amino",
   "metadata": {},
   "outputs": [],
   "source": [
    "print(g.clusters()[18])"
   ]
  },
  {
   "cell_type": "code",
   "execution_count": null,
   "id": "female-grave",
   "metadata": {},
   "outputs": [],
   "source": [
    "layout = uneComposante.layout('fr')"
   ]
  },
  {
   "cell_type": "code",
   "execution_count": null,
   "id": "exceptional-block",
   "metadata": {},
   "outputs": [],
   "source": [
    "plot(uneComposante, layout=layout)"
   ]
  },
  {
   "cell_type": "code",
   "execution_count": null,
   "id": "painful-mandate",
   "metadata": {},
   "outputs": [],
   "source": [
    "uneAutreComposante = g.subgraph(g.clusters()[17])"
   ]
  },
  {
   "cell_type": "code",
   "execution_count": null,
   "id": "brown-supplier",
   "metadata": {},
   "outputs": [],
   "source": [
    "layout = uneAutreComposante.layout('fr')\n",
    "plot(uneAutreComposante, layout=layout)"
   ]
  },
  {
   "cell_type": "code",
   "execution_count": null,
   "id": "visible-smile",
   "metadata": {},
   "outputs": [],
   "source": [
    "composantes = g.clusters()"
   ]
  },
  {
   "cell_type": "code",
   "execution_count": null,
   "id": "surface-gospel",
   "metadata": {},
   "outputs": [],
   "source": [
    "# composantes.membership\n",
    "palette = drawing.colors.RainbowPalette(len(composantes))\n",
    "\n",
    "colors = [palette.get(i) for i in composantes.membership]\n",
    "\n",
    "style = {\n",
    "    'vertex_color': colors\n",
    "}\n",
    "\n",
    "plot(g, **style)"
   ]
  },
  {
   "cell_type": "code",
   "execution_count": null,
   "id": "quiet-summit",
   "metadata": {},
   "outputs": [],
   "source": [
    "plot(composantes)"
   ]
  },
  {
   "cell_type": "markdown",
   "id": "based-brazil",
   "metadata": {},
   "source": [
    "## Calculer le degré de chaque sommet"
   ]
  },
  {
   "cell_type": "code",
   "execution_count": null,
   "id": "pointed-sauce",
   "metadata": {},
   "outputs": [],
   "source": [
    "style['vertex_size'] = [max(d, 7) for d in g.degree()]\n",
    "plot(g, **style)"
   ]
  },
  {
   "cell_type": "markdown",
   "id": "august-conducting",
   "metadata": {},
   "source": [
    "## Afficher la distribution des degrés dans un histogramme"
   ]
  },
  {
   "cell_type": "code",
   "execution_count": null,
   "id": "intensive-postcard",
   "metadata": {},
   "outputs": [],
   "source": [
    "print('Le degre max est', g.maxdegree())"
   ]
  },
  {
   "cell_type": "code",
   "execution_count": null,
   "id": "fifth-nature",
   "metadata": {},
   "outputs": [],
   "source": [
    "import matplotlib.pyplot as plt\n",
    "import numpy as np"
   ]
  },
  {
   "cell_type": "code",
   "execution_count": null,
   "id": "normal-cancellation",
   "metadata": {},
   "outputs": [],
   "source": [
    "plt.figure(figsize=(10, 6))\n",
    "\n",
    "hist_degree = np.array([[b[1], b[2]] for b in g.degree_distribution().bins()])\n",
    "\n",
    "plt.bar(hist_degree[:, 0], hist_degree[:, 1])\n",
    "plt.show()\n",
    "\n",
    "plt.figure(figsize=(10, 6))\n",
    "plt.scatter(hist_degree[:, 0], hist_degree[:, 1])\n",
    "plt.xscale('log')"
   ]
  },
  {
   "cell_type": "code",
   "execution_count": null,
   "id": "rocky-essence",
   "metadata": {},
   "outputs": [],
   "source": [
    "h = Histogram(2)"
   ]
  },
  {
   "cell_type": "code",
   "execution_count": null,
   "id": "textile-creator",
   "metadata": {},
   "outputs": [],
   "source": [
    "h.add_many(g.degree())"
   ]
  },
  {
   "cell_type": "code",
   "execution_count": null,
   "id": "single-stream",
   "metadata": {},
   "outputs": [],
   "source": [
    "print(h)"
   ]
  },
  {
   "cell_type": "markdown",
   "id": "southwest-round",
   "metadata": {},
   "source": [
    "## Retirer les labels"
   ]
  },
  {
   "cell_type": "code",
   "execution_count": null,
   "id": "loving-writing",
   "metadata": {},
   "outputs": [],
   "source": [
    "g.vs['label'] = ['' for _ in g.vs()]\n",
    "\n",
    "layout = g.layout('fr')\n",
    "\n",
    "\n",
    "plot(g, layout=layout, **style)"
   ]
  },
  {
   "cell_type": "markdown",
   "id": "extreme-solution",
   "metadata": {},
   "source": [
    "## Détecter les communautés dans ce graphe"
   ]
  },
  {
   "cell_type": "code",
   "execution_count": null,
   "id": "exciting-business",
   "metadata": {},
   "outputs": [],
   "source": [
    "communities = g.community_multilevel()"
   ]
  },
  {
   "cell_type": "code",
   "execution_count": null,
   "id": "hundred-graduation",
   "metadata": {},
   "outputs": [],
   "source": [
    "del style['vertex_size']\n",
    "del style['vertex_color']"
   ]
  },
  {
   "cell_type": "code",
   "execution_count": null,
   "id": "breathing-young",
   "metadata": {},
   "outputs": [],
   "source": [
    "layout = g.layout('fr', niter=5000)"
   ]
  },
  {
   "cell_type": "code",
   "execution_count": null,
   "id": "super-casting",
   "metadata": {},
   "outputs": [],
   "source": [
    "plot(communities, mark_groups=True, margin=40, layout=layout, **style)"
   ]
  },
  {
   "cell_type": "markdown",
   "id": "humanitarian-avenue",
   "metadata": {},
   "source": [
    "## Test 3"
   ]
  },
  {
   "cell_type": "code",
   "execution_count": null,
   "id": "active-constitutional",
   "metadata": {},
   "outputs": [],
   "source": [
    "layout = g.layout('fr3d')\n",
    "\n",
    "Xn=[layout[k][0] for k in range(len(g.vs()))]# x-coordinates of nodes\n",
    "Yn=[layout[k][1] for k in range(len(g.vs()))]# y-coordinates\n",
    "Zn=[layout[k][2] for k in range(len(g.vs()))]# z-coordinates\n",
    "Xe=[]\n",
    "Ye=[]\n",
    "Ze=[]\n",
    "for e in g.es():\n",
    "    Xe+=[layout[e.tuple[0]][0],layout[e.tuple[1]][0], None]# x-coordinates of edge ends\n",
    "    Ye+=[layout[e.tuple[0]][1],layout[e.tuple[1]][1], None]\n",
    "    Ze+=[layout[e.tuple[0]][2],layout[e.tuple[1]][2], None]\n",
    "import chart_studio.plotly as py\n",
    "import plotly.graph_objs as go\n",
    "\n",
    "communities = g.community_multilevel()\n",
    "colors = [i for i in communities.membership]\n",
    "\n",
    "trace1 = go.Scatter3d(\n",
    "    x=Xe,\n",
    "    y=Ye,\n",
    "    z=Ze,\n",
    "    name='Friendship',\n",
    "    mode='lines',\n",
    "    line=dict(color='rgb(125,125,125)', width=1),\n",
    "    hoverinfo='none'\n",
    ")\n",
    "\n",
    "trace2=go.Scatter3d(\n",
    "    x=Xn,\n",
    "    y=Yn,\n",
    "    z=Zn,\n",
    "    mode='markers',\n",
    "    name='Facebook user',\n",
    "    marker=dict(\n",
    "        symbol='circle',\n",
    "        size=12,\n",
    "        color=colors,\n",
    "        colorscale='Viridis',\n",
    "        line=dict(color='rgb(50,50,50)', width=0.5)\n",
    "    ),\n",
    "    text=[v.attributes()['label'] for v in g.vs()],\n",
    "    hoverinfo='text'\n",
    ")\n",
    "\n",
    "axis=dict(\n",
    "    showbackground=False,\n",
    "    showline=False,\n",
    "    zeroline=False,\n",
    "    showgrid=False,\n",
    "    showticklabels=False,\n",
    "    title=''\n",
    ")\n",
    "\n",
    "layout = go.Layout(\n",
    "         title=\"Facebook\",\n",
    "         width=800,\n",
    "         height=800,\n",
    "         showlegend=True,\n",
    "         scene=dict(\n",
    "             xaxis=dict(axis),\n",
    "             yaxis=dict(axis),\n",
    "             zaxis=dict(axis),\n",
    "        ),\n",
    "     margin=dict(\n",
    "        t=100\n",
    "    ),\n",
    "    hovermode='closest',\n",
    "    annotations=[\n",
    "        dict(\n",
    "            showarrow=False,\n",
    "            text=\"Data source: <br><a href='https://igraph.org/%27%3E[1] iGraph</a><br>\"+\n",
    "               \"<a href='https://plotly.com/%27%3E[1] Plotly</a>\",\n",
    "            xref='paper',\n",
    "            yref='paper',\n",
    "            x=0,\n",
    "            y=0.1,\n",
    "            xanchor='left',\n",
    "            yanchor='bottom',\n",
    "            font=dict(\n",
    "                size=14\n",
    "            )\n",
    "        )\n",
    "    ],\n",
    ")\n",
    "data=[trace1, trace2]\n",
    "fig=go.Figure(data=data, layout=layout)\n",
    "fig"
   ]
  },
  {
   "cell_type": "code",
   "execution_count": null,
   "id": "mechanical-honor",
   "metadata": {},
   "outputs": [],
   "source": []
  }
 ],
 "metadata": {
  "kernelspec": {
   "display_name": "Python 3",
   "language": "python",
   "name": "python3"
  },
  "language_info": {
   "codemirror_mode": {
    "name": "ipython",
    "version": 3
   },
   "file_extension": ".py",
   "mimetype": "text/x-python",
   "name": "python",
   "nbconvert_exporter": "python",
   "pygments_lexer": "ipython3",
   "version": "3.9.2"
  }
 },
 "nbformat": 4,
 "nbformat_minor": 5
}
