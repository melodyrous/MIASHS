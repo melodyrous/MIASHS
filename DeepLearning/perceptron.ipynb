{
 "metadata": {
  "language_info": {
   "codemirror_mode": {
    "name": "ipython",
    "version": 3
   },
   "file_extension": ".py",
   "mimetype": "text/x-python",
   "name": "python",
   "nbconvert_exporter": "python",
   "pygments_lexer": "ipython3",
   "version": "3.7.3-final"
  },
  "orig_nbformat": 2,
  "kernelspec": {
   "name": "python3",
   "display_name": "Python 3",
   "language": "python"
  }
 },
 "nbformat": 4,
 "nbformat_minor": 2,
 "cells": [
  {
   "source": [
    "# TP1 : Introduction au perceptron\n",
    "## Exercice 1 : Comprendre la rétropropagation de gradient\n",
    "1.   Implémenter les fonctions suivantes :    \n",
    "f(x) = x  \n",
    "2 + 2.x  \n",
    "g(x) = x  \n",
    "2 + 7.sin(x)\n",
    "2. Implémentez les dérivées des fonctions f et g.  \n",
    "3. Proposez une fonction prenant en paramètre une valeur x0 et un pas α et recherchant par une\n",
    "méthode de descente du gradient le minimum local.  \n",
    "4. Faites varier le pas α dans l'ensemble {{0.01, 0.1, 0.9}}, que déduisez-vous ?  \n",
    "\n"
   ],
   "cell_type": "markdown",
   "metadata": {}
  },
  {
   "cell_type": "code",
   "execution_count": 2,
   "metadata": {},
   "outputs": [],
   "source": [
    "import numpy as np"
   ]
  },
  {
   "cell_type": "code",
   "execution_count": 5,
   "metadata": {},
   "outputs": [],
   "source": [
    "def f(x):\n",
    "    return 2**2 + 2*x\n",
    "\n",
    "def g(x):\n",
    "    return 2**2 + 7 * np.sin(x)\n",
    "\n",
    "def df(x):\n",
    "    return x + 2\n",
    "\n",
    "def dg(x):\n",
    "    return 2 + 7 * np.log(x)\n",
    "\n",
    "pas = 0.1\n",
    "X0 = \n"
   ]
  },
  {
   "cell_type": "code",
   "execution_count": 7,
   "metadata": {},
   "outputs": [
    {
     "output_type": "display_data",
     "data": {
      "text/plain": "<Figure size 432x288 with 1 Axes>",
      "image/png": "[encoded data removed]"
     },
     "metadata": {
      "needs_background": "light"
     }
    }
   ],
   "source": [
    "import matplotlib.pyplot as plt\n",
    "from matplotlib import colors\n",
    "import time\n",
    "import random\n",
    "\n",
    "N=100\n",
    "timetime = 0.001\n",
    "\n",
    "d=5\n",
    "x1 = np.random.randn(N, 3)\n",
    "x1[:, 2]=1\n",
    "\n",
    "x2 = np.random.randn(N, 3)\n",
    "x2[:, 0]+=d\n",
    "x2[:, 2]=1\n",
    "\n",
    "\n",
    "plt.scatter(x1[:, 0], x1[:, 1], c='r')\n",
    "plt.scatter(x2[:, 0], x2[:, 1], c='b')\n",
    "plt.show()"
   ]
  }
 ]
}